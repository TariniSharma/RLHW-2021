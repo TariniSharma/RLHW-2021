{
 "cells": [
  {
   "cell_type": "markdown",
   "id": "fba78645",
   "metadata": {},
   "source": [
    "### Question 5"
   ]
  },
  {
   "cell_type": "code",
   "execution_count": 1,
   "id": "305f9b5d",
   "metadata": {},
   "outputs": [],
   "source": [
    "import numpy as np\n",
    "import scipy as sp\n",
    "import matplotlib.pyplot as plt\n",
    "import numpy.linalg as npla\n",
    "import scipy.linalg as spla"
   ]
  },
  {
   "cell_type": "code",
   "execution_count": 2,
   "id": "ead315b4",
   "metadata": {},
   "outputs": [],
   "source": [
    "def moving(i,j,action):\n",
    "    # action direction : upwards=2, downwards=3, left=1, right=0\n",
    "    newi = 0\n",
    "    newj = 0\n",
    "    reward = 0\n",
    "    # move from A to A'\n",
    "    if i==0 and j==1:\n",
    "        newi = 4\n",
    "        newj = 1\n",
    "        reward = 10\n",
    "    # move from B to B'\n",
    "    elif i==0 and j==3:\n",
    "        newi = 2\n",
    "        newj = 3\n",
    "        reward = 5\n",
    "    #corners\n",
    "    # at row=0, cannot move upwards\n",
    "    elif i==0 and action==2:\n",
    "        newi = i\n",
    "        newj = j\n",
    "        reward = -1\n",
    "    # at row=4, cannot move downwards\n",
    "    elif i==4 and action==3:\n",
    "        newi = i\n",
    "        newj = j\n",
    "        reward = -1\n",
    "    # at column=0, cannot move left\n",
    "    elif j==0 and action==1:\n",
    "        newi = i\n",
    "        newj = j\n",
    "        reward = -1\n",
    "    # at column=4, cannot move right\n",
    "    elif j==4 and action==0:\n",
    "        newi = i\n",
    "        newj = j\n",
    "        reward = -1\n",
    "    else:\n",
    "        # move right\n",
    "        if action==0:\n",
    "            newi = i\n",
    "            newj = j+1\n",
    "            reward = 0\n",
    "        # move left\n",
    "        elif action==1:\n",
    "            newi = i\n",
    "            newj = j-1\n",
    "            reward = 0\n",
    "        # move upwards\n",
    "        elif action==2:\n",
    "            newi = i-1\n",
    "            newj = j\n",
    "            reward = 0\n",
    "        # move downwards\n",
    "        elif action==3:\n",
    "            newi = i+1\n",
    "            newj = j\n",
    "            reward = 0\n",
    "            \n",
    "    return newi, newj, reward"
   ]
  },
  {
   "cell_type": "code",
   "execution_count": 3,
   "id": "6a2716b1",
   "metadata": {},
   "outputs": [],
   "source": [
    "# Initializing number of states, number of actions, gridSize and gamma\n",
    "num_states = 25\n",
    "num_actions = 4\n",
    "gamma = 0.9\n",
    "gridSize = 5\n",
    "\n",
    "# additiveVpi represents summation over all actions a, pi(a|s)*reward obtained from each action, for all states s\n",
    "# coeffVpi represents summation over all actions a, pi(a|s)*gamma, for all states s\n",
    "# vpi represents value function for each state s under policy pi\n",
    "additiveVpi = np.zeros(num_states)\n",
    "coeffVpi = np.zeros((num_states,num_states))\n",
    "vpi = np.zeros((gridSize,gridSize))\n",
    "\n",
    "for i in range(0,gridSize):\n",
    "    for j in range(0,gridSize):\n",
    "        # term2 would hold the summation over all actions pi(a|s)*reward obtained from each action, for state (i,j)\n",
    "        term2 = np.zeros((gridSize,gridSize))\n",
    "        term2[i,j]=-1\n",
    "        # term1 would hold the summation over all actions a, pi(a|s)*gamma for state (i,j)\n",
    "        term1 = 0\n",
    "        \n",
    "        # action direction : upwards=2, downwards=3, left=1, right=0\n",
    "        for action in range(0,num_actions):\n",
    "            # new state (newi,newj) obtained after moving from state (i,j) under action and reward represents the \n",
    "            # corresponding reward\n",
    "            newi,newj,reward = moving(i,j,action)\n",
    "            \n",
    "            # pi(a|s) = 1/4 as pi picks actions in a state with equal probability\n",
    "            term1 += reward/4\n",
    "            term2[newi,newj] += gamma/4\n",
    "        \n",
    "        additiveVpi[gridSize*i+j] = term1\n",
    "        tempstorage = np.zeros(num_states)\n",
    "        i1 = 0\n",
    "        for l1 in range(0,gridSize):\n",
    "            for l2 in range(0,gridSize):\n",
    "                tempstorage[i1] = term2[l1,l2]\n",
    "                i1 += 1\n",
    "        coeffVpi[gridSize*i+j] = tempstorage\n",
    "\n",
    "additiveVpi *= -1\n",
    "temp = np.linalg.solve(coeffVpi,additiveVpi)\n",
    "ind = 0\n",
    "for i in range(0,gridSize):\n",
    "    for j in range(0,gridSize):\n",
    "        vpi[i,j] = round(temp[ind],1)\n",
    "        ind += 1"
   ]
  },
  {
   "cell_type": "code",
   "execution_count": 4,
   "id": "3aa2bfe6",
   "metadata": {},
   "outputs": [
    {
     "name": "stdout",
     "output_type": "stream",
     "text": [
      "[[ 3.3  8.8  4.4  5.3  1.5]\n",
      " [ 1.5  3.   2.3  1.9  0.5]\n",
      " [ 0.1  0.7  0.7  0.4 -0.4]\n",
      " [-1.  -0.4 -0.4 -0.6 -1.2]\n",
      " [-1.9 -1.3 -1.2 -1.4 -2. ]]\n"
     ]
    }
   ],
   "source": [
    "print(vpi)"
   ]
  }
 ],
 "metadata": {
  "kernelspec": {
   "display_name": "Python 3 (ipykernel)",
   "language": "python",
   "name": "python3"
  },
  "language_info": {
   "codemirror_mode": {
    "name": "ipython",
    "version": 3
   },
   "file_extension": ".py",
   "mimetype": "text/x-python",
   "name": "python",
   "nbconvert_exporter": "python",
   "pygments_lexer": "ipython3",
   "version": "3.9.6"
  }
 },
 "nbformat": 4,
 "nbformat_minor": 5
}
