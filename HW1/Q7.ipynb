{
 "cells": [
  {
   "cell_type": "markdown",
   "id": "ed5d753c",
   "metadata": {},
   "source": [
    "## Question 7"
   ]
  },
  {
   "cell_type": "code",
   "execution_count": 1,
   "id": "9b8c61a0",
   "metadata": {},
   "outputs": [],
   "source": [
    "import numpy as np\n",
    "import matplotlib.pyplot as plt"
   ]
  },
  {
   "cell_type": "code",
   "execution_count": 2,
   "id": "c935cc9e",
   "metadata": {},
   "outputs": [],
   "source": [
    "def calc_Preference(H):\n",
    "    exp = np.exp(H)\n",
    "    return exp / np.sum(exp)"
   ]
  },
  {
   "cell_type": "code",
   "execution_count": 3,
   "id": "1c24b0b8",
   "metadata": {},
   "outputs": [],
   "source": [
    "# baseline, Rt_bar is the average of rewards including Rt\n",
    "def ten_armed_testbed_gradient_with_baseline(eps):\n",
    "    # Initialize\n",
    "    arms = 10\n",
    "    alpha = eps\n",
    "    timestamps = 1000\n",
    "    episodes = 2000\n",
    "    optimal_arm = [0 for i in range(0,timestamps)]\n",
    "    list_arms = [i for i in range(0,arms)]\n",
    "    \n",
    "    for episode in range(0, episodes):\n",
    "        # Step 1 : assign q*(a) for all arms a\n",
    "        true_q = np.random.normal(4,1,10)\n",
    "\n",
    "        #Step 2 : simulate 10-arm bandit for 1000 timestamps\n",
    "        Ht = [0.0 for i in range(0,arms)]\n",
    "        Pit = [0.0 for i in range(0,arms)]\n",
    "        \n",
    "        av_rewards = 0\n",
    "        n = 0\n",
    "\n",
    "        for iterations in range(0, timestamps):\n",
    "            # Step 0 : Get optimal arm\n",
    "            true_At = np.argmax(true_q)\n",
    "            # Step 1 : Choose arm At\n",
    "            pit = calc_Preference(Ht)\n",
    "            At = np.random.choice(list_arms,p=pit)\n",
    "            # Step 2 : Receive reward\n",
    "            Rt = np.random.normal(true_q[At],1)\n",
    "            # Step 3 : Update n and rewards\n",
    "            n += 1\n",
    "            av_rewards = av_rewards + (Rt - av_rewards)/n\n",
    "            #Step 4 : Update Action Preferences\n",
    "            Ht[At] = Ht[At] + alpha * (Rt - av_rewards) * (1 - pit[At])\n",
    "            for i in range(0,arms):\n",
    "                if At!=i:\n",
    "                    Ht[i] = Ht[i] - alpha * (Rt - av_rewards) * pit[i]\n",
    "            # Step 5 : Update optimal_action\n",
    "            if At == true_At:\n",
    "                optimal_arm[iterations] += 1\n",
    "                \n",
    "                \n",
    "    for iteration in range(0, timestamps):\n",
    "        optimal_arm[iteration] = (optimal_arm[iteration]*100)/episodes\n",
    "        \n",
    "    return optimal_arm"
   ]
  },
  {
   "cell_type": "code",
   "execution_count": 4,
   "id": "98aef415",
   "metadata": {},
   "outputs": [],
   "source": [
    "def ten_armed_testbed_gradient_without_baseline(eps):\n",
    "    # Initialize\n",
    "    arms = 10\n",
    "    alpha = eps\n",
    "    timestamps = 1000\n",
    "    episodes = 2000\n",
    "    optimal_arm = [0 for i in range(0,timestamps)]\n",
    "    list_arms = [i for i in range(0,arms)]\n",
    "    \n",
    "    for episode in range(0, episodes):\n",
    "        # Step 1 : assign q*(a) for all arms a\n",
    "        true_q = np.random.normal(4,1,10)\n",
    "\n",
    "        #Step 2 : simulate 10-arm bandit for 1000 timestamps\n",
    "        Ht = [0.0 for i in range(0,arms)]\n",
    "        Pit = [0.0 for i in range(0,arms)]\n",
    "\n",
    "        for iterations in range(0, timestamps):\n",
    "            # Step 0 : Get optimal arm\n",
    "            true_At = np.argmax(true_q)\n",
    "            # Step 1 : Choose arm At\n",
    "            pit = calc_Preference(Ht)\n",
    "            At = np.random.choice(list_arms,p=pit)\n",
    "            # Step 2 : Receive reward\n",
    "            Rt = np.random.normal(true_q[At],1)\n",
    "            #Step 3 : Update Action Preferences\n",
    "            Ht[At] = Ht[At] + alpha * (Rt) * (1 - pit[At])\n",
    "            for i in range(0,arms):\n",
    "                if At!=i:\n",
    "                    Ht[i] = Ht[i] - alpha * (Rt) * pit[i]\n",
    "            # Step 5 : Update optimal_action\n",
    "            if At == true_At:\n",
    "                optimal_arm[iterations] += 1\n",
    "                \n",
    "                \n",
    "    for iteration in range(0, timestamps):\n",
    "        optimal_arm[iteration] = (optimal_arm[iteration]*100)/episodes\n",
    "        \n",
    "    return optimal_arm"
   ]
  },
  {
   "cell_type": "code",
   "execution_count": 5,
   "id": "4a22cacf",
   "metadata": {},
   "outputs": [
    {
     "data": {
      "image/png": "[encoded data removed]",
      "text/plain": [
       "<Figure size 432x288 with 1 Axes>"
      ]
     },
     "metadata": {
      "needs_background": "light"
     },
     "output_type": "display_data"
    }
   ],
   "source": [
    "timestamps = 1000\n",
    "time = [i for i in range(1,timestamps+1)]\n",
    "\n",
    "optimal_arm1 = ten_armed_testbed_gradient_with_baseline(0.1)\n",
    "optimal_arm2 = ten_armed_testbed_gradient_with_baseline(0.4)\n",
    "\n",
    "optimal_arm3 = ten_armed_testbed_gradient_without_baseline(0.1)\n",
    "optimal_arm4 = ten_armed_testbed_gradient_without_baseline(0.4)\n",
    "\n",
    "# plotting figure 1\n",
    "plt.figure()\n",
    "plt.plot(time, optimal_arm1, label='0.1 b') #alpha = 0.1, with baseline\n",
    "plt.plot(time, optimal_arm2, label='0.4 b') #alpha = 0.4, with baseline\n",
    "plt.plot(time, optimal_arm3, label='0.1 wb') #alpha = 0.1, without baseline\n",
    "plt.plot(time, optimal_arm4, label='0.4 wb') #alpha = 0.4, without baseline\n",
    "plt.xlabel('Steps')\n",
    "plt.ylabel('% optimal action')\n",
    "plt.legend()\n",
    "plt.show()"
   ]
  },
  {
   "cell_type": "code",
   "execution_count": null,
   "id": "533def85",
   "metadata": {},
   "outputs": [],
   "source": []
  }
 ],
 "metadata": {
  "kernelspec": {
   "display_name": "Python 3 (ipykernel)",
   "language": "python",
   "name": "python3"
  },
  "language_info": {
   "codemirror_mode": {
    "name": "ipython",
    "version": 3
   },
   "file_extension": ".py",
   "mimetype": "text/x-python",
   "name": "python",
   "nbconvert_exporter": "python",
   "pygments_lexer": "ipython3",
   "version": "3.9.6"
  }
 },
 "nbformat": 4,
 "nbformat_minor": 5
}
